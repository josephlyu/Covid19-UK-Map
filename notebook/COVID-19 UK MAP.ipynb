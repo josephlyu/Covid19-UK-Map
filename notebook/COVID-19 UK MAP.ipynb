{
 "cells": [
  {
   "cell_type": "code",
   "execution_count": 1,
   "id": "quantitative-armor",
   "metadata": {},
   "outputs": [
    {
     "name": "stdout",
     "output_type": "stream",
     "text": [
      "User Guide: https://docs.kepler.gl/docs/keplergl-jupyter\n",
      "Map saved to ../docs/index.html!\n"
     ]
    }
   ],
   "source": [
    "import pandas as pd\n",
    "import geopandas as gpd\n",
    "\n",
    "from config import config\n",
    "from keplergl import KeplerGl\n",
    "from uk_covid19 import Cov19API\n",
    "\n",
    "filters_utla = ['areaType=utla']\n",
    "\n",
    "structure_utla = {\n",
    "    \"date\": \"date\",\n",
    "    \"name\": \"areaName\",\n",
    "    \"code\": \"areaCode\",\n",
    "    \"rate\": \"cumCasesByPublishDateRate\"\n",
    "}\n",
    "\n",
    "api_utla = Cov19API(filters_utla, structure_utla, latest_by='cumCasesByPublishDateRate')\n",
    "df_utla = api_utla.get_dataframe()\n",
    "\n",
    "gdf_utla = gpd.read_file('boundaries.geojson')\n",
    "\n",
    "gdf_utla_processed = gdf_utla.merge(df_utla)\n",
    "gdf_utla_processed.columns = ['Area Code', 'geometry', 'Latest Data', 'Local Authority', 'Cases per 100,000']\n",
    "gdf_utla_processed.to_csv('../data/utla_infection_rates.csv', index=False)\n",
    "\n",
    "map_utla = KeplerGl()\n",
    "map_utla.save_to_html(data={'Cumulative Cases Rate': gdf_utla_processed}, config=config, file_name='../docs/index.html', read_only=True)"
   ]
  }
 ],
 "metadata": {
  "kernelspec": {
   "display_name": "Python 3",
   "language": "python",
   "name": "python3"
  },
  "language_info": {
   "codemirror_mode": {
    "name": "ipython",
    "version": 3
   },
   "file_extension": ".py",
   "mimetype": "text/x-python",
   "name": "python",
   "nbconvert_exporter": "python",
   "pygments_lexer": "ipython3",
   "version": "3.7.4"
  }
 },
 "nbformat": 4,
 "nbformat_minor": 5
}
